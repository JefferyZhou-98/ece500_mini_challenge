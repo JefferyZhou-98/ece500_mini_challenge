{
 "cells": [
  {
   "cell_type": "markdown",
   "metadata": {},
   "source": [
    "Facial recognization using opencv"
   ]
  },
  {
   "cell_type": "code",
   "execution_count": 1,
   "metadata": {},
   "outputs": [],
   "source": [
    "import os\n",
    "import cv2\n",
    "import shutil\n",
    "\n",
    "# Load the Haar cascade classifiers for face detection\n",
    "cascade_files = ['face_model/haarcascade_frontalface_alt.xml',\n",
    "                 'face_model/haarcascade_frontalface_alt.xml',\n",
    "                 'face_model/haarcascade_profileface.xml']\n",
    "\n",
    "face_cascades = [cv2.CascadeClassifier(file) for file in cascade_files]\n",
    "\n",
    "# Input and output directories\n",
    "input_dir = 'test'\n",
    "output_dir = 'test_cropped'\n",
    "\n",
    "# Define the target size for the extracted faces\n",
    "target_size = (224, 224)  # Specify width and height in pixels\n",
    "\n",
    "# Iterate over each image in the input directory\n",
    "for filename in os.listdir(input_dir):\n",
    "    try:\n",
    "        # Read the input image\n",
    "        img = cv2.imread(os.path.join(input_dir, filename))\n",
    "\n",
    "        # If the image cannot be read, skip to the next image\n",
    "        if img is None:\n",
    "            shutil.copy(os.path.join(input_dir, filename), os.path.join(output_dir, filename))\n",
    "            continue\n",
    "\n",
    "        # Convert into grayscale\n",
    "        gray = cv2.cvtColor(img, cv2.COLOR_BGR2GRAY)\n",
    "\n",
    "        faces_detected = False\n",
    "\n",
    "        # Iterate over each cascade classifier\n",
    "        for face_cascade in face_cascades:\n",
    "            # Detect faces using the current classifier\n",
    "            faces = face_cascade.detectMultiScale(gray, 1.1, 10)\n",
    "\n",
    "            # If faces are detected, set the flag to True and break out of the loop\n",
    "            if len(faces) > 0:\n",
    "                faces_detected = True\n",
    "                break\n",
    "\n",
    "        # If faces are detected using any of the classifiers\n",
    "        if faces_detected:\n",
    "            # Iterate over each detected face\n",
    "            for i, (x, y, w, h) in enumerate(faces):\n",
    "                # Extract the region of interest (face) from the image and resize it to the target size\n",
    "                face_roi = cv2.resize(img[y:y+h, x:x+w], target_size)\n",
    "\n",
    "                # Save the recognized face as a separate JPEG file\n",
    "                output_filename = os.path.splitext(filename)[0] + f'.jpg'\n",
    "                output_path = os.path.join(output_dir, output_filename)\n",
    "                cv2.imwrite(output_path, face_roi)\n",
    "\n",
    "                # Draw rectangle around the detected face on the original image\n",
    "                # cv2.rectangle(img, (x, y), (x+w, y+h), (255, 0, 0), 2)\n",
    "\n",
    "        else:  # If no faces are detected using any of the classifiers\n",
    "            # Resize the image to the target size and save it under the same name as before\n",
    "            resized_img = cv2.resize(img, target_size)\n",
    "            cv2.imwrite(os.path.join(output_dir, filename), resized_img)\n",
    "    except Exception as e:\n",
    "        print(f\"Error processing image {filename}: {e}\")\n",
    "\n"
   ]
  }
 ],
 "metadata": {
  "kernelspec": {
   "display_name": ".venv",
   "language": "python",
   "name": "python3"
  },
  "language_info": {
   "codemirror_mode": {
    "name": "ipython",
    "version": 3
   },
   "file_extension": ".py",
   "mimetype": "text/x-python",
   "name": "python",
   "nbconvert_exporter": "python",
   "pygments_lexer": "ipython3",
   "version": "3.12.1"
  }
 },
 "nbformat": 4,
 "nbformat_minor": 2
}
